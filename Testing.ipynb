{
 "cells": [
  {
   "cell_type": "code",
   "execution_count": 6,
   "metadata": {},
   "outputs": [
    {
     "name": "stdout",
     "output_type": "stream",
     "text": [
      "My dog's name is Willie.\n",
      "My dog is 6 years old.\n",
      "Willie is now sitting.\n",
      "Willie rolled over!\n",
      "\n",
      "My dog's name is Lucy.\n",
      "My dog is 3 years old.\n",
      "Lucy is now sitting.\n"
     ]
    }
   ],
   "source": [
    "class Dog():\n",
    "    def __init__(self, name, age):\n",
    "        self.name = name\n",
    "        self.age = age \n",
    "    def sit(self):\n",
    "        print(self.name.title() + ' is now sitting.')\n",
    "    def roll_over(self):\n",
    "        print(self.name.title() + ' rolled over!')\n",
    "my_dog = Dog('Willie', 6)\n",
    "your_dog = Dog('Lucy', 3)\n",
    "print(\"My dog's name is \" + my_dog.name.title() + \".\")\n",
    "print(\"My dog is \" + str(my_dog.age) + \" years old.\")\n",
    "my_dog.sit()\n",
    "my_dog.roll_over()\n",
    "\n",
    "print(\"\\nMy dog's name is \" + your_dog.name.title() + \".\")\n",
    "print(\"My dog is \" + str(your_dog.age) + \" years old.\")\n",
    "your_dog.sit()\n",
    "\n"
   ]
  },
  {
   "cell_type": "code",
   "execution_count": 15,
   "metadata": {},
   "outputs": [
    {
     "name": "stdout",
     "output_type": "stream",
     "text": [
      "2016 Audi A4\n",
      "This car has 0 miles on it.\n",
      "This car has 23 miles on it.\n",
      "you cant roll back an odometer\n",
      "This car has 23 miles on it.\n",
      "2013 Subaru Outback\n",
      "This car has 23500 miles on it.\n",
      "This car has 23800 miles on it.\n",
      "2016 Testla Model S\n",
      "This car has a 70 -kwh battery.\n",
      "This car does not need gas\n",
      "This car can go approximatly 240 miles on a full charge.\n"
     ]
    }
   ],
   "source": [
    "my_car.py \n",
    "class Car():\n",
    "    def __init__(self, make, model, year):\n",
    "        self.make = make\n",
    "        self.model = model\n",
    "        self.year = year\n",
    "        self.odometer_reading = 0\n",
    "    def get_descriptive_name(self):\n",
    "        long_name = str(self.year) + ' ' + self.make + ' ' + self.model\n",
    "        return long_name.title()\n",
    "    def read_odometer(self):\n",
    "        print(\"This car has \" + str(self.odometer_reading) + \" miles on it.\")\n",
    "    def update_odometer(self, mileage):\n",
    "        if mileage >= self.odometer_reading:\n",
    "            self.odometer_reading = mileage\n",
    "        else:\n",
    "            print(\"you cant roll back an odometer\")\n",
    "    def increment_odometer(self, miles):\n",
    "        self.odometer_reading += miles\n",
    "\n",
    "my_new_car = Car('audi','a4', 2016)\n",
    "print(my_new_car.get_descriptive_name())\n",
    "my_new_car.read_odometer()\n",
    "my_new_car.odometer_reading = 23\n",
    "my_new_car.read_odometer()\n",
    "my_new_car.update_odometer(-3)\n",
    "my_new_car.read_odometer()\n",
    "my_used_car = Car(\"subaru\", \"outback\",  2013)\n",
    "print(my_used_car.get_descriptive_name())\n",
    "my_used_car.update_odometer(23500)\n",
    "my_used_car.read_odometer()\n",
    "my_used_car.increment_odometer(300)\n",
    "my_used_car.read_odometer()\n",
    "\n",
    "class ElectricCar(Car):\n",
    "    def __init__(self, make, model, year):\n",
    "        super().__init__(make, model, year)\n",
    "        self.battery = Battery()\n",
    "    def fill_gas_tank(self):\n",
    "        print('This car does not need gas')\n",
    "class Battery():\n",
    "    def __init__(self,battery_size = 70):\n",
    "        self.battery_size = battery_size\n",
    "    def describe_battery(self):\n",
    "         print(\"This car has a \" + str(self.battery_size) + \" -kwh battery.\")\n",
    "    def get_range(self):\n",
    "        if self.battery_size == 70:\n",
    "            range = 240\n",
    "        elif  self.battery_size == 85:\n",
    "            range = 270\n",
    "        message = \"This car can go approximatly \" + str(range) + \" miles on a full charge.\"\n",
    "        print(message)\n",
    "my_testla = ElectricCar('testla','model s','2016')\n",
    "print(my_testla.get_descriptive_name())\n",
    "my_testla.battery.describe_battery()\n",
    "my_testla.fill_gas_tank()\n",
    "my_testla.battery.get_range()"
   ]
  },
  {
   "cell_type": "code",
   "execution_count": null,
   "metadata": {},
   "outputs": [],
   "source": []
  }
 ],
 "metadata": {
  "kernelspec": {
   "display_name": "Python 3",
   "language": "python",
   "name": "python3"
  },
  "language_info": {
   "codemirror_mode": {
    "name": "ipython",
    "version": 3
   },
   "file_extension": ".py",
   "mimetype": "text/x-python",
   "name": "python",
   "nbconvert_exporter": "python",
   "pygments_lexer": "ipython3",
   "version": "3.7.4"
  }
 },
 "nbformat": 4,
 "nbformat_minor": 2
}
