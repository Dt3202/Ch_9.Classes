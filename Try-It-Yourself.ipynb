{
 "cells": [
  {
   "cell_type": "code",
   "execution_count": 12,
   "metadata": {},
   "outputs": [
    {
     "name": "stdout",
     "output_type": "stream",
     "text": [
      "Pizza For Days is the name of my resturant.\n",
      "Fast Food is the way.\n",
      "welcome to Pizza For Days.\n",
      "We are a Fast Food Resturant.\n",
      "Pizza for Days is now open.\n"
     ]
    }
   ],
   "source": [
    "#9-1 Resturant\n",
    "'''\n",
    "Programmer: Drayzdin Thompson\n",
    "Description: Creat a class called resturant\n",
    "'''\n",
    "class Resturant():\n",
    "    def __init__(self, resturant_name, resturant_type):\n",
    "        self.resturant_name = resturant_name\n",
    "        self.resturant_type = resturant_type\n",
    "    def describe_resturant(self):\n",
    "        print(\"welcome to \" + self.resturant_name.title() + \".\")\n",
    "        print(\"We are a \" + self.resturant_type.title() + \" Resturant.\")\n",
    "    def open_resturant(self):\n",
    "        print(self.resturant_name + \" is now open.\")\n",
    "\n",
    "my_resturant = Resturant(\"Pizza for Days\", \"Fast Food\")\n",
    "print(my_resturant.resturant_name.title() + \" is the name of my resturant.\")\n",
    "print(my_resturant.resturant_type.title() + \" is the way.\")\n",
    "my_resturant.describe_resturant()\n",
    "my_resturant.open_resturant()\n"
   ]
  },
  {
   "cell_type": "code",
   "execution_count": 13,
   "metadata": {},
   "outputs": [
    {
     "name": "stdout",
     "output_type": "stream",
     "text": [
      "welcome to Yumzzz Fries.\n",
      "We are a Buffet Resturant.\n",
      "welcome to I Scream For Ice Only.\n",
      "We are a Fast Food Resturant.\n",
      "welcome to Bergsi.\n",
      "We are a Fast Food Resturant.\n"
     ]
    }
   ],
   "source": [
    "#9-2 Three Resturants\n",
    "'''\n",
    "Programmer: Drayzdin Thompson\n",
    "Description: Call Class above three times \n",
    "'''\n",
    "first_resturant = Resturant('Yumzzz Fries', 'Buffet')\n",
    "second_resturant = Resturant('I Scream for Ice only', 'Fast Food')\n",
    "third_resturant = Resturant('Bergsi', 'Fast Food')\n",
    "first_resturant.describe_resturant()\n",
    "second_resturant.describe_resturant()\n",
    "third_resturant.describe_resturant()\n"
   ]
  },
  {
   "cell_type": "code",
   "execution_count": 23,
   "metadata": {},
   "outputs": [
    {
     "name": "stdout",
     "output_type": "stream",
     "text": [
      "Drayzdin Thompson is Male\n",
      "password = Aberration11\n",
      "Username = Drayzdin02\n",
      "Hello Drayzdin Thompson thank you for visiting.\n"
     ]
    }
   ],
   "source": [
    "#9-3 Users\n",
    "'''\n",
    "Programmer: Drayzdin Thompson\n",
    "Description: New Class defining a user\n",
    "'''\n",
    "class User():\n",
    "    def __init__(self, first_name, last_name, password, username, gender):\n",
    "        self.first_name = first_name\n",
    "        self.last_name = last_name\n",
    "        self.password = password\n",
    "        self.username = username\n",
    "        self.gender = gender\n",
    "    def describe_user(self):\n",
    "        print(self.first_name.title() + \" \" + self.last_name.title() + ' is ' + self.gender.title())\n",
    "        print('password = '+  self.password)\n",
    "        print('Username = ' + self.username)\n",
    "    def greet_user(self):\n",
    "        print(\"Hello \" + self.first_name.title() + ' ' + self.last_name.title() + \" thank you for visiting.\")\n",
    "drayzdin = User('Drayzdin', 'Thompson', 'Aberration11', 'Drayzdin02', 'Male')\n",
    "drayzdin.describe_user()\n",
    "drayzdin.greet_user()\n"
   ]
  },
  {
   "cell_type": "code",
   "execution_count": 12,
   "metadata": {},
   "outputs": [
    {
     "name": "stdout",
     "output_type": "stream",
     "text": [
      "0\n",
      "20\n",
      "40\n"
     ]
    }
   ],
   "source": [
    "#9-4 Number served\n",
    "'''\n",
    "Programmer: Drayzdin Thompson\n",
    "Description: Adding more functions to the class resturant\n",
    "'''\n",
    "class Resturant():\n",
    "    def __init__(self, resturant_name, resturant_type):\n",
    "        self.resturant_name = resturant_name\n",
    "        self.resturant_type = resturant_type\n",
    "        self.number_served = 0\n",
    "    def describe_resturant(self):\n",
    "        print(\"welcome to \" + self.resturant_name.title() + \".\")\n",
    "        print(\"We are a \" + self.resturant_type.title() + \" Resturant.\")\n",
    "    def open_resturant(self):\n",
    "        print(self.resturant_name + \" is now open.\")\n",
    "    def set_number_served(self, served_count):\n",
    "        self.number_served = served_count\n",
    "    def increment_number_served(self, raise_count):\n",
    "        self.number_served += raise_count\n",
    "        \n",
    "resturant = Resturant('Dray', \"buffet\")\n",
    "print(resturant.number_served)\n",
    "resturant.set_number_served(20)\n",
    "print(resturant.number_served)\n",
    "resturant.increment_number_served(20)\n",
    "print(resturant.number_served)\n"
   ]
  },
  {
   "cell_type": "code",
   "execution_count": 25,
   "metadata": {},
   "outputs": [
    {
     "name": "stdout",
     "output_type": "stream",
     "text": [
      "0\n",
      "1\n",
      "0\n",
      "\n",
      "0\n",
      "1\n",
      "2\n",
      "3\n",
      "4\n",
      "0\n"
     ]
    }
   ],
   "source": [
    "#9-5 Login Attempts\n",
    "'''\n",
    "Programmer: Drayzdin Thompson\n",
    "Description: More Functiond for class user\n",
    "'''\n",
    "class User():\n",
    "    def __init__(self, first_name, last_name, password, username, gender):\n",
    "        self.first_name = first_name\n",
    "        self.last_name = last_name\n",
    "        self.password = password\n",
    "        self.username = username\n",
    "        self.gender = gender\n",
    "        self.login_attempts = 0\n",
    "    def describe_user(self):\n",
    "        print(self.first_name.title() + \" \" + self.last_name.title() + ' is ' + self.gender.title())\n",
    "        print('password = '+  self.password)\n",
    "        print('Username = ' + self.username)\n",
    "    def greet_user(self):\n",
    "        print(\"Hello \" + self.first_name.title() + ' ' + self.last_name.title() + \" thank you for visiting.\")\n",
    "    def increment_login_attempts(self):\n",
    "        self.login_attempts += 1\n",
    "    def reset_login_attempts(self):\n",
    "        self.login_attempts = 0\n",
    "drayzdin = User('Drayzdin', 'Thompson', 'Aberration11', 'Drayzdin02', 'Male')\n",
    "print(drayzdin.login_attempts)\n",
    "drayzdin.increment_login_attempts()\n",
    "print(drayzdin.login_attempts)\n",
    "drayzdin.reset_login_attempts()\n",
    "print(drayzdin.login_attempts)\n",
    "print()\n",
    "kellen = User('kellen', 'barron', 'stuff', 'more_stuff', 'male')\n",
    "print(kellen.login_attempts)\n",
    "kellen.increment_login_attempts()\n",
    "print(kellen.login_attempts)\n",
    "kellen.increment_login_attempts()\n",
    "print(kellen.login_attempts)\n",
    "kellen.increment_login_attempts()\n",
    "print(kellen.login_attempts)\n",
    "kellen.increment_login_attempts()\n",
    "print(kellen.login_attempts)\n",
    "kellen.reset_login_attempts()\n",
    "print(kellen.login_attempts)"
   ]
  },
  {
   "cell_type": "code",
   "execution_count": null,
   "metadata": {},
   "outputs": [],
   "source": []
  }
 ],
 "metadata": {
  "kernelspec": {
   "display_name": "Python 3",
   "language": "python",
   "name": "python3"
  },
  "language_info": {
   "codemirror_mode": {
    "name": "ipython",
    "version": 3
   },
   "file_extension": ".py",
   "mimetype": "text/x-python",
   "name": "python",
   "nbconvert_exporter": "python",
   "pygments_lexer": "ipython3",
   "version": "3.7.4"
  }
 },
 "nbformat": 4,
 "nbformat_minor": 2
}
